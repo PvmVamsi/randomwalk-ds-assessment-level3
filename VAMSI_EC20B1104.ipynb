{
 "cells": [
  {
   "cell_type": "raw",
   "id": "86095d28",
   "metadata": {},
   "source": [
    "Candidate must create a jupyter notebook which processes the data provided in the CSV files to solve the following questions within the time limit provided.\n",
    "\n",
    "\n",
    "1) How many books do not have an original title [books.csv]?\n",
    "\n",
    "2) How many unique books are present in the dataset ? Evaluate based on the 'book_id' after removing records containing null values for original_title column in [books.csv] and corresponding records in [book_tags.csv] and [ratings.csv]\n",
    "\n",
    "3) How many unique users are present in the dataset [ratings.csv] ?\n",
    "\n",
    "4) How many unique tags are there in the dataset [book_tags.csv] ?\n",
    "\n",
    "5) Which tag_id  is the most frequently used ie. mapped with the highest number of books [book_tags.csv]  ? \n",
    "(In case of more than one tag, mention the tag id with the least numerical value)’.\n",
    "\n",
    "6) Which book (title) has the most number of counts of tags given by the user [book_tags.csv,books.csv] .\n",
    "\n",
    "7) Plot a bar chart with top 20 unique tags in descending order of ‘user records’ (the number of users tagged the given tag_id with the goodreads_book_id) [book_tags.csv]"
   ]
  },
  {
   "cell_type": "code",
   "execution_count": 1,
   "id": "d0e2ddad",
   "metadata": {},
   "outputs": [],
   "source": [
    "import pandas as pd\n",
    "import numpy as np\n",
    "import matplotlib.pyplot as plt"
   ]
  },
  {
   "cell_type": "code",
   "execution_count": 53,
   "id": "68dbcb43",
   "metadata": {},
   "outputs": [],
   "source": [
    "b = pd.read_csv(\"books.csv\")\n",
    "r = pd.read_csv(\"ratingS.csv\")\n",
    "t = pd.read_csv(\"book_tags.csv\")"
   ]
  },
  {
   "cell_type": "code",
   "execution_count": 73,
   "id": "f3deb943",
   "metadata": {},
   "outputs": [
    {
     "data": {
      "text/plain": [
       "Index(['book_id', 'goodreads_book_id', 'best_book_id', 'work_id',\n",
       "       'books_count', 'isbn', 'isbn13', 'authors', 'original_publication_year',\n",
       "       'original_title', 'title', 'language_code', 'average_rating',\n",
       "       'ratings_count', 'work_ratings_count', 'work_text_reviews_count',\n",
       "       'ratings_1', 'ratings_2', 'ratings_3', 'ratings_4', 'ratings_5',\n",
       "       'image_url', 'small_image_url', 'NonEnglish'],\n",
       "      dtype='object')"
      ]
     },
     "execution_count": 73,
     "metadata": {},
     "output_type": "execute_result"
    }
   ],
   "source": [
    "b.columns"
   ]
  },
  {
   "cell_type": "code",
   "execution_count": 5,
   "id": "f8a6290e",
   "metadata": {},
   "outputs": [
    {
     "data": {
      "text/html": [
       "<div>\n",
       "<style scoped>\n",
       "    .dataframe tbody tr th:only-of-type {\n",
       "        vertical-align: middle;\n",
       "    }\n",
       "\n",
       "    .dataframe tbody tr th {\n",
       "        vertical-align: top;\n",
       "    }\n",
       "\n",
       "    .dataframe thead th {\n",
       "        text-align: right;\n",
       "    }\n",
       "</style>\n",
       "<table border=\"1\" class=\"dataframe\">\n",
       "  <thead>\n",
       "    <tr style=\"text-align: right;\">\n",
       "      <th></th>\n",
       "      <th>goodreads_book_id</th>\n",
       "      <th>tag_id</th>\n",
       "      <th>count</th>\n",
       "    </tr>\n",
       "  </thead>\n",
       "  <tbody>\n",
       "    <tr>\n",
       "      <th>0</th>\n",
       "      <td>386</td>\n",
       "      <td>30574</td>\n",
       "      <td>565</td>\n",
       "    </tr>\n",
       "    <tr>\n",
       "      <th>1</th>\n",
       "      <td>386</td>\n",
       "      <td>19733</td>\n",
       "      <td>280</td>\n",
       "    </tr>\n",
       "    <tr>\n",
       "      <th>2</th>\n",
       "      <td>386</td>\n",
       "      <td>21689</td>\n",
       "      <td>182</td>\n",
       "    </tr>\n",
       "    <tr>\n",
       "      <th>3</th>\n",
       "      <td>386</td>\n",
       "      <td>21773</td>\n",
       "      <td>99</td>\n",
       "    </tr>\n",
       "    <tr>\n",
       "      <th>4</th>\n",
       "      <td>386</td>\n",
       "      <td>19742</td>\n",
       "      <td>78</td>\n",
       "    </tr>\n",
       "    <tr>\n",
       "      <th>...</th>\n",
       "      <td>...</td>\n",
       "      <td>...</td>\n",
       "      <td>...</td>\n",
       "    </tr>\n",
       "    <tr>\n",
       "      <th>40195</th>\n",
       "      <td>31845516</td>\n",
       "      <td>13254</td>\n",
       "      <td>7</td>\n",
       "    </tr>\n",
       "    <tr>\n",
       "      <th>40196</th>\n",
       "      <td>31845516</td>\n",
       "      <td>19734</td>\n",
       "      <td>7</td>\n",
       "    </tr>\n",
       "    <tr>\n",
       "      <th>40197</th>\n",
       "      <td>31845516</td>\n",
       "      <td>833</td>\n",
       "      <td>7</td>\n",
       "    </tr>\n",
       "    <tr>\n",
       "      <th>40198</th>\n",
       "      <td>31845516</td>\n",
       "      <td>23471</td>\n",
       "      <td>6</td>\n",
       "    </tr>\n",
       "    <tr>\n",
       "      <th>40199</th>\n",
       "      <td>31845516</td>\n",
       "      <td>9477</td>\n",
       "      <td>6</td>\n",
       "    </tr>\n",
       "  </tbody>\n",
       "</table>\n",
       "<p>40200 rows × 3 columns</p>\n",
       "</div>"
      ],
      "text/plain": [
       "       goodreads_book_id  tag_id  count\n",
       "0                    386   30574    565\n",
       "1                    386   19733    280\n",
       "2                    386   21689    182\n",
       "3                    386   21773     99\n",
       "4                    386   19742     78\n",
       "...                  ...     ...    ...\n",
       "40195           31845516   13254      7\n",
       "40196           31845516   19734      7\n",
       "40197           31845516     833      7\n",
       "40198           31845516   23471      6\n",
       "40199           31845516    9477      6\n",
       "\n",
       "[40200 rows x 3 columns]"
      ]
     },
     "execution_count": 5,
     "metadata": {},
     "output_type": "execute_result"
    }
   ],
   "source": [
    "t"
   ]
  },
  {
   "cell_type": "code",
   "execution_count": 6,
   "id": "d65fc81c",
   "metadata": {
    "scrolled": true
   },
   "outputs": [
    {
     "data": {
      "text/html": [
       "<div>\n",
       "<style scoped>\n",
       "    .dataframe tbody tr th:only-of-type {\n",
       "        vertical-align: middle;\n",
       "    }\n",
       "\n",
       "    .dataframe tbody tr th {\n",
       "        vertical-align: top;\n",
       "    }\n",
       "\n",
       "    .dataframe thead th {\n",
       "        text-align: right;\n",
       "    }\n",
       "</style>\n",
       "<table border=\"1\" class=\"dataframe\">\n",
       "  <thead>\n",
       "    <tr style=\"text-align: right;\">\n",
       "      <th></th>\n",
       "      <th>user_id</th>\n",
       "      <th>book_id</th>\n",
       "      <th>rating</th>\n",
       "    </tr>\n",
       "  </thead>\n",
       "  <tbody>\n",
       "    <tr>\n",
       "      <th>0</th>\n",
       "      <td>8</td>\n",
       "      <td>2584</td>\n",
       "      <td>5</td>\n",
       "    </tr>\n",
       "    <tr>\n",
       "      <th>1</th>\n",
       "      <td>4</td>\n",
       "      <td>87</td>\n",
       "      <td>5</td>\n",
       "    </tr>\n",
       "    <tr>\n",
       "      <th>2</th>\n",
       "      <td>4</td>\n",
       "      <td>495</td>\n",
       "      <td>4</td>\n",
       "    </tr>\n",
       "    <tr>\n",
       "      <th>3</th>\n",
       "      <td>9</td>\n",
       "      <td>344</td>\n",
       "      <td>4</td>\n",
       "    </tr>\n",
       "    <tr>\n",
       "      <th>4</th>\n",
       "      <td>9</td>\n",
       "      <td>372</td>\n",
       "      <td>4</td>\n",
       "    </tr>\n",
       "    <tr>\n",
       "      <th>...</th>\n",
       "      <td>...</td>\n",
       "      <td>...</td>\n",
       "      <td>...</td>\n",
       "    </tr>\n",
       "    <tr>\n",
       "      <th>233378</th>\n",
       "      <td>36947</td>\n",
       "      <td>6939</td>\n",
       "      <td>5</td>\n",
       "    </tr>\n",
       "    <tr>\n",
       "      <th>233379</th>\n",
       "      <td>22352</td>\n",
       "      <td>617</td>\n",
       "      <td>2</td>\n",
       "    </tr>\n",
       "    <tr>\n",
       "      <th>233380</th>\n",
       "      <td>42785</td>\n",
       "      <td>1613</td>\n",
       "      <td>4</td>\n",
       "    </tr>\n",
       "    <tr>\n",
       "      <th>233381</th>\n",
       "      <td>10622</td>\n",
       "      <td>610</td>\n",
       "      <td>5</td>\n",
       "    </tr>\n",
       "    <tr>\n",
       "      <th>233382</th>\n",
       "      <td>35336</td>\n",
       "      <td>317</td>\n",
       "      <td>5</td>\n",
       "    </tr>\n",
       "  </tbody>\n",
       "</table>\n",
       "<p>233383 rows × 3 columns</p>\n",
       "</div>"
      ],
      "text/plain": [
       "        user_id  book_id  rating\n",
       "0             8     2584       5\n",
       "1             4       87       5\n",
       "2             4      495       4\n",
       "3             9      344       4\n",
       "4             9      372       4\n",
       "...         ...      ...     ...\n",
       "233378    36947     6939       5\n",
       "233379    22352      617       2\n",
       "233380    42785     1613       4\n",
       "233381    10622      610       5\n",
       "233382    35336      317       5\n",
       "\n",
       "[233383 rows x 3 columns]"
      ]
     },
     "execution_count": 6,
     "metadata": {},
     "output_type": "execute_result"
    }
   ],
   "source": [
    "r"
   ]
  },
  {
   "cell_type": "code",
   "execution_count": 54,
   "id": "1a3a4ae6",
   "metadata": {},
   "outputs": [
    {
     "name": "stdout",
     "output_type": "stream",
     "text": [
      "No of books with no original title: 36\n"
     ]
    }
   ],
   "source": [
    "# 1) How many books do not have an original title [books.csv]?\n",
    "l = b[b['original_title'].isna()]\n",
    "print(\"No of books with no original title:\",len(l))"
   ]
  },
  {
   "cell_type": "code",
   "execution_count": 55,
   "id": "f448c6e7",
   "metadata": {},
   "outputs": [],
   "source": [
    "l1 = l['book_id'].to_list()#book id that has null values\n",
    "l0 = l['goodreads_book_id'].to_list()"
   ]
  },
  {
   "cell_type": "code",
   "execution_count": 56,
   "id": "153a563d",
   "metadata": {},
   "outputs": [
    {
     "name": "stdout",
     "output_type": "stream",
     "text": [
      "<class 'pandas.core.frame.DataFrame'>\n",
      "Int64Index: 225939 entries, 0 to 233382\n",
      "Data columns (total 3 columns):\n",
      " #   Column   Non-Null Count   Dtype\n",
      "---  ------   --------------   -----\n",
      " 0   user_id  225939 non-null  int64\n",
      " 1   book_id  225939 non-null  int64\n",
      " 2   rating   225939 non-null  int64\n",
      "dtypes: int64(3)\n",
      "memory usage: 6.9 MB\n"
     ]
    }
   ],
   "source": [
    "# 2) How many unique books are present in the dataset ? Evaluate based on the 'book_id' after removing records\n",
    "# containing null values for original_title  column in [books.csv] and corresponding records in [book_tags.csv] and [ratings.csv]\n",
    "l2 = r[r['book_id'].isin(l1)].index.to_list()#rating csv cleaning\n",
    "r.drop(l2,inplace = True)\n",
    "r.info()"
   ]
  },
  {
   "cell_type": "code",
   "execution_count": 57,
   "id": "9b17743d",
   "metadata": {},
   "outputs": [
    {
     "name": "stdout",
     "output_type": "stream",
     "text": [
      "<class 'pandas.core.frame.DataFrame'>\n",
      "Int64Index: 36600 entries, 0 to 40199\n",
      "Data columns (total 3 columns):\n",
      " #   Column             Non-Null Count  Dtype\n",
      "---  ------             --------------  -----\n",
      " 0   goodreads_book_id  36600 non-null  int64\n",
      " 1   tag_id             36600 non-null  int64\n",
      " 2   count              36600 non-null  int64\n",
      "dtypes: int64(3)\n",
      "memory usage: 1.1 MB\n"
     ]
    }
   ],
   "source": [
    "l3 = t[t['goodreads_book_id'].isin(l0)].index.to_list()\n",
    "t.drop(l3,inplace = True)\n",
    "t.info()"
   ]
  },
  {
   "cell_type": "code",
   "execution_count": 58,
   "id": "c48cc98a",
   "metadata": {},
   "outputs": [
    {
     "name": "stdout",
     "output_type": "stream",
     "text": [
      "Unique books: 363\n"
     ]
    }
   ],
   "source": [
    "b.dropna(subset = ['original_title'],inplace = True)\n",
    "unique = b['book_id'].unique().size\n",
    "print(\"Unique books:\",unique)"
   ]
  },
  {
   "cell_type": "code",
   "execution_count": 27,
   "id": "301329e6",
   "metadata": {},
   "outputs": [
    {
     "data": {
      "text/html": [
       "<div>\n",
       "<style scoped>\n",
       "    .dataframe tbody tr th:only-of-type {\n",
       "        vertical-align: middle;\n",
       "    }\n",
       "\n",
       "    .dataframe tbody tr th {\n",
       "        vertical-align: top;\n",
       "    }\n",
       "\n",
       "    .dataframe thead th {\n",
       "        text-align: right;\n",
       "    }\n",
       "</style>\n",
       "<table border=\"1\" class=\"dataframe\">\n",
       "  <thead>\n",
       "    <tr style=\"text-align: right;\">\n",
       "      <th></th>\n",
       "      <th>user_id</th>\n",
       "      <th>book_id</th>\n",
       "      <th>rating</th>\n",
       "    </tr>\n",
       "  </thead>\n",
       "  <tbody>\n",
       "    <tr>\n",
       "      <th>0</th>\n",
       "      <td>8</td>\n",
       "      <td>2584</td>\n",
       "      <td>5</td>\n",
       "    </tr>\n",
       "    <tr>\n",
       "      <th>1</th>\n",
       "      <td>4</td>\n",
       "      <td>87</td>\n",
       "      <td>5</td>\n",
       "    </tr>\n",
       "    <tr>\n",
       "      <th>2</th>\n",
       "      <td>4</td>\n",
       "      <td>495</td>\n",
       "      <td>4</td>\n",
       "    </tr>\n",
       "    <tr>\n",
       "      <th>3</th>\n",
       "      <td>9</td>\n",
       "      <td>344</td>\n",
       "      <td>4</td>\n",
       "    </tr>\n",
       "    <tr>\n",
       "      <th>4</th>\n",
       "      <td>9</td>\n",
       "      <td>372</td>\n",
       "      <td>4</td>\n",
       "    </tr>\n",
       "    <tr>\n",
       "      <th>...</th>\n",
       "      <td>...</td>\n",
       "      <td>...</td>\n",
       "      <td>...</td>\n",
       "    </tr>\n",
       "    <tr>\n",
       "      <th>233378</th>\n",
       "      <td>36947</td>\n",
       "      <td>6939</td>\n",
       "      <td>5</td>\n",
       "    </tr>\n",
       "    <tr>\n",
       "      <th>233379</th>\n",
       "      <td>22352</td>\n",
       "      <td>617</td>\n",
       "      <td>2</td>\n",
       "    </tr>\n",
       "    <tr>\n",
       "      <th>233380</th>\n",
       "      <td>42785</td>\n",
       "      <td>1613</td>\n",
       "      <td>4</td>\n",
       "    </tr>\n",
       "    <tr>\n",
       "      <th>233381</th>\n",
       "      <td>10622</td>\n",
       "      <td>610</td>\n",
       "      <td>5</td>\n",
       "    </tr>\n",
       "    <tr>\n",
       "      <th>233382</th>\n",
       "      <td>35336</td>\n",
       "      <td>317</td>\n",
       "      <td>5</td>\n",
       "    </tr>\n",
       "  </tbody>\n",
       "</table>\n",
       "<p>225939 rows × 3 columns</p>\n",
       "</div>"
      ],
      "text/plain": [
       "        user_id  book_id  rating\n",
       "0             8     2584       5\n",
       "1             4       87       5\n",
       "2             4      495       4\n",
       "3             9      344       4\n",
       "4             9      372       4\n",
       "...         ...      ...     ...\n",
       "233378    36947     6939       5\n",
       "233379    22352      617       2\n",
       "233380    42785     1613       4\n",
       "233381    10622      610       5\n",
       "233382    35336      317       5\n",
       "\n",
       "[225939 rows x 3 columns]"
      ]
     },
     "execution_count": 27,
     "metadata": {},
     "output_type": "execute_result"
    }
   ],
   "source": [
    "r"
   ]
  },
  {
   "cell_type": "code",
   "execution_count": 28,
   "id": "c7d620cf",
   "metadata": {},
   "outputs": [
    {
     "name": "stdout",
     "output_type": "stream",
     "text": [
      "Unique users in ratings.csv : 40573\n"
     ]
    }
   ],
   "source": [
    "# 3) How many unique users are present in the dataset [ratings.csv] ?\n",
    "print(\"Unique users in ratings.csv :\",r['user_id'].nunique())"
   ]
  },
  {
   "cell_type": "code",
   "execution_count": 59,
   "id": "43dad07c",
   "metadata": {},
   "outputs": [
    {
     "data": {
      "text/html": [
       "<div>\n",
       "<style scoped>\n",
       "    .dataframe tbody tr th:only-of-type {\n",
       "        vertical-align: middle;\n",
       "    }\n",
       "\n",
       "    .dataframe tbody tr th {\n",
       "        vertical-align: top;\n",
       "    }\n",
       "\n",
       "    .dataframe thead th {\n",
       "        text-align: right;\n",
       "    }\n",
       "</style>\n",
       "<table border=\"1\" class=\"dataframe\">\n",
       "  <thead>\n",
       "    <tr style=\"text-align: right;\">\n",
       "      <th></th>\n",
       "      <th>goodreads_book_id</th>\n",
       "      <th>tag_id</th>\n",
       "      <th>count</th>\n",
       "    </tr>\n",
       "  </thead>\n",
       "  <tbody>\n",
       "    <tr>\n",
       "      <th>0</th>\n",
       "      <td>386</td>\n",
       "      <td>30574</td>\n",
       "      <td>565</td>\n",
       "    </tr>\n",
       "    <tr>\n",
       "      <th>1</th>\n",
       "      <td>386</td>\n",
       "      <td>19733</td>\n",
       "      <td>280</td>\n",
       "    </tr>\n",
       "    <tr>\n",
       "      <th>2</th>\n",
       "      <td>386</td>\n",
       "      <td>21689</td>\n",
       "      <td>182</td>\n",
       "    </tr>\n",
       "    <tr>\n",
       "      <th>3</th>\n",
       "      <td>386</td>\n",
       "      <td>21773</td>\n",
       "      <td>99</td>\n",
       "    </tr>\n",
       "    <tr>\n",
       "      <th>4</th>\n",
       "      <td>386</td>\n",
       "      <td>19742</td>\n",
       "      <td>78</td>\n",
       "    </tr>\n",
       "    <tr>\n",
       "      <th>...</th>\n",
       "      <td>...</td>\n",
       "      <td>...</td>\n",
       "      <td>...</td>\n",
       "    </tr>\n",
       "    <tr>\n",
       "      <th>40195</th>\n",
       "      <td>31845516</td>\n",
       "      <td>13254</td>\n",
       "      <td>7</td>\n",
       "    </tr>\n",
       "    <tr>\n",
       "      <th>40196</th>\n",
       "      <td>31845516</td>\n",
       "      <td>19734</td>\n",
       "      <td>7</td>\n",
       "    </tr>\n",
       "    <tr>\n",
       "      <th>40197</th>\n",
       "      <td>31845516</td>\n",
       "      <td>833</td>\n",
       "      <td>7</td>\n",
       "    </tr>\n",
       "    <tr>\n",
       "      <th>40198</th>\n",
       "      <td>31845516</td>\n",
       "      <td>23471</td>\n",
       "      <td>6</td>\n",
       "    </tr>\n",
       "    <tr>\n",
       "      <th>40199</th>\n",
       "      <td>31845516</td>\n",
       "      <td>9477</td>\n",
       "      <td>6</td>\n",
       "    </tr>\n",
       "  </tbody>\n",
       "</table>\n",
       "<p>36600 rows × 3 columns</p>\n",
       "</div>"
      ],
      "text/plain": [
       "       goodreads_book_id  tag_id  count\n",
       "0                    386   30574    565\n",
       "1                    386   19733    280\n",
       "2                    386   21689    182\n",
       "3                    386   21773     99\n",
       "4                    386   19742     78\n",
       "...                  ...     ...    ...\n",
       "40195           31845516   13254      7\n",
       "40196           31845516   19734      7\n",
       "40197           31845516     833      7\n",
       "40198           31845516   23471      6\n",
       "40199           31845516    9477      6\n",
       "\n",
       "[36600 rows x 3 columns]"
      ]
     },
     "execution_count": 59,
     "metadata": {},
     "output_type": "execute_result"
    }
   ],
   "source": [
    "t"
   ]
  },
  {
   "cell_type": "code",
   "execution_count": 33,
   "id": "1e499f9f",
   "metadata": {},
   "outputs": [
    {
     "name": "stdout",
     "output_type": "stream",
     "text": [
      "Unique tags in book_tags.csv : 3459\n"
     ]
    }
   ],
   "source": [
    "# 4) How many unique tags are there in the dataset [book_tags.csv] ?\n",
    "print(\"Unique tags in book_tags.csv :\",t['tag_id'].nunique())"
   ]
  },
  {
   "cell_type": "code",
   "execution_count": 47,
   "id": "6fd506e2",
   "metadata": {},
   "outputs": [
    {
     "name": "stdout",
     "output_type": "stream",
     "text": [
      " tag_id  is the most frequently used ie. mapped with the highest number of books [book_tags.csv] : 4600\n"
     ]
    }
   ],
   "source": [
    "# 5) Which tag_id  is the most frequently used ie. mapped with the highest number of books [book_tags.csv]  ? \n",
    "# (In case of more than one tag, mention the tag id with the least numerical value)’.\n",
    "counts = pd.DataFrame(t['tag_id'].value_counts())\n",
    "# counts.max()[0]\n",
    "cout = counts[counts[\"tag_id\"]==counts.max()[0]].index.to_list()\n",
    "cout.sort()\n",
    "print(\" tag_id  is the most frequently used ie. mapped with the highest number of books [book_tags.csv] :\",cout[0])"
   ]
  },
  {
   "cell_type": "code",
   "execution_count": 60,
   "id": "ea4deb93",
   "metadata": {},
   "outputs": [
    {
     "data": {
      "text/html": [
       "<div>\n",
       "<style scoped>\n",
       "    .dataframe tbody tr th:only-of-type {\n",
       "        vertical-align: middle;\n",
       "    }\n",
       "\n",
       "    .dataframe tbody tr th {\n",
       "        vertical-align: top;\n",
       "    }\n",
       "\n",
       "    .dataframe thead th {\n",
       "        text-align: right;\n",
       "    }\n",
       "</style>\n",
       "<table border=\"1\" class=\"dataframe\">\n",
       "  <thead>\n",
       "    <tr style=\"text-align: right;\">\n",
       "      <th></th>\n",
       "      <th>goodreads_book_id</th>\n",
       "      <th>tag_id</th>\n",
       "      <th>count</th>\n",
       "    </tr>\n",
       "  </thead>\n",
       "  <tbody>\n",
       "    <tr>\n",
       "      <th>0</th>\n",
       "      <td>386</td>\n",
       "      <td>30574</td>\n",
       "      <td>565</td>\n",
       "    </tr>\n",
       "    <tr>\n",
       "      <th>1</th>\n",
       "      <td>386</td>\n",
       "      <td>19733</td>\n",
       "      <td>280</td>\n",
       "    </tr>\n",
       "    <tr>\n",
       "      <th>2</th>\n",
       "      <td>386</td>\n",
       "      <td>21689</td>\n",
       "      <td>182</td>\n",
       "    </tr>\n",
       "    <tr>\n",
       "      <th>3</th>\n",
       "      <td>386</td>\n",
       "      <td>21773</td>\n",
       "      <td>99</td>\n",
       "    </tr>\n",
       "    <tr>\n",
       "      <th>4</th>\n",
       "      <td>386</td>\n",
       "      <td>19742</td>\n",
       "      <td>78</td>\n",
       "    </tr>\n",
       "    <tr>\n",
       "      <th>...</th>\n",
       "      <td>...</td>\n",
       "      <td>...</td>\n",
       "      <td>...</td>\n",
       "    </tr>\n",
       "    <tr>\n",
       "      <th>40195</th>\n",
       "      <td>31845516</td>\n",
       "      <td>13254</td>\n",
       "      <td>7</td>\n",
       "    </tr>\n",
       "    <tr>\n",
       "      <th>40196</th>\n",
       "      <td>31845516</td>\n",
       "      <td>19734</td>\n",
       "      <td>7</td>\n",
       "    </tr>\n",
       "    <tr>\n",
       "      <th>40197</th>\n",
       "      <td>31845516</td>\n",
       "      <td>833</td>\n",
       "      <td>7</td>\n",
       "    </tr>\n",
       "    <tr>\n",
       "      <th>40198</th>\n",
       "      <td>31845516</td>\n",
       "      <td>23471</td>\n",
       "      <td>6</td>\n",
       "    </tr>\n",
       "    <tr>\n",
       "      <th>40199</th>\n",
       "      <td>31845516</td>\n",
       "      <td>9477</td>\n",
       "      <td>6</td>\n",
       "    </tr>\n",
       "  </tbody>\n",
       "</table>\n",
       "<p>36600 rows × 3 columns</p>\n",
       "</div>"
      ],
      "text/plain": [
       "       goodreads_book_id  tag_id  count\n",
       "0                    386   30574    565\n",
       "1                    386   19733    280\n",
       "2                    386   21689    182\n",
       "3                    386   21773     99\n",
       "4                    386   19742     78\n",
       "...                  ...     ...    ...\n",
       "40195           31845516   13254      7\n",
       "40196           31845516   19734      7\n",
       "40197           31845516     833      7\n",
       "40198           31845516   23471      6\n",
       "40199           31845516    9477      6\n",
       "\n",
       "[36600 rows x 3 columns]"
      ]
     },
     "execution_count": 60,
     "metadata": {},
     "output_type": "execute_result"
    }
   ],
   "source": [
    "t"
   ]
  },
  {
   "cell_type": "code",
   "execution_count": 85,
   "id": "a06b755e",
   "metadata": {},
   "outputs": [
    {
     "data": {
      "text/plain": [
       "5    Bossypants\n",
       "Name: title, dtype: object"
      ]
     },
     "execution_count": 85,
     "metadata": {},
     "output_type": "execute_result"
    }
   ],
   "source": [
    "# 6) Which book (title) has the most number of counts of tags given by the user [book_tags.csv,books.csv] .\n",
    "counts_tags = pd.DataFrame(t.groupby('goodreads_book_id')['count'].sum())#as for same id we have multiple count we is going to geopy by using id and summing all the count\n",
    "counts_tags.max()\n",
    "index = counts_tags[counts_tags[\"count\"]==counts_tags.max()[0]].index.to_list()\n",
    "# index[0]\n",
    "b[b['goodreads_book_id'] == index[0]]['title']"
   ]
  },
  {
   "cell_type": "code",
   "execution_count": 101,
   "id": "fb791f71",
   "metadata": {},
   "outputs": [],
   "source": [
    "# 7) Plot a bar chart with top 20 unique tags in descending order of ‘user records’ \n",
    "# (the number of users tagged the given tag_id with the goodreads_book_id) [book_tags.csv]\n",
    "un = list(t['tag_id'].unique())\n",
    "un.sort(reverse = True)\n",
    "tag = un[:20]\n",
    "xa = t[t[\"tag_id\"].isin(tag)]\n",
    "xaxis = xa['goodreads_book_id'].to_list()\n",
    "yaxis = xa['count'].to_list()\n"
   ]
  },
  {
   "cell_type": "code",
   "execution_count": 112,
   "id": "2e6aebd4",
   "metadata": {},
   "outputs": [
    {
     "data": {
      "text/plain": [
       "[1848,\n",
       " 2159,\n",
       " 3465,\n",
       " 10884,\n",
       " 10884,\n",
       " 11690,\n",
       " 11690,\n",
       " 11690,\n",
       " 11690,\n",
       " 46349,\n",
       " 46349,\n",
       " 54270,\n",
       " 54270,\n",
       " 54270,\n",
       " 54270,\n",
       " 54270,\n",
       " 73864,\n",
       " 79834,\n",
       " 92057,\n",
       " 103342,\n",
       " 103342,\n",
       " 103342,\n",
       " 103342,\n",
       " 103342,\n",
       " 103342,\n",
       " 103342,\n",
       " 103342,\n",
       " 103342,\n",
       " 103342,\n",
       " 103342,\n",
       " 112803,\n",
       " 112803,\n",
       " 318431,\n",
       " 318431,\n",
       " 328802,\n",
       " 361459,\n",
       " 361459,\n",
       " 361459,\n",
       " 361459,\n",
       " 393199,\n",
       " 522534,\n",
       " 613283,\n",
       " 821611,\n",
       " 821611,\n",
       " 17727276]"
      ]
     },
     "execution_count": 112,
     "metadata": {},
     "output_type": "execute_result"
    }
   ],
   "source": [
    "xaxis"
   ]
  },
  {
   "cell_type": "code",
   "execution_count": 113,
   "id": "40ee1c07",
   "metadata": {},
   "outputs": [
    {
     "data": {
      "text/plain": [
       "[21,\n",
       " 16,\n",
       " 6,\n",
       " 14,\n",
       " 9,\n",
       " 14,\n",
       " 6,\n",
       " 5,\n",
       " 5,\n",
       " 19,\n",
       " 13,\n",
       " 29,\n",
       " 27,\n",
       " 22,\n",
       " 8,\n",
       " 8,\n",
       " 4,\n",
       " 4,\n",
       " 35,\n",
       " 63,\n",
       " 32,\n",
       " 14,\n",
       " 14,\n",
       " 13,\n",
       " 10,\n",
       " 8,\n",
       " 6,\n",
       " 6,\n",
       " 6,\n",
       " 4,\n",
       " 21,\n",
       " 13,\n",
       " 18,\n",
       " 14,\n",
       " 6,\n",
       " 20,\n",
       " 18,\n",
       " 16,\n",
       " 11,\n",
       " 25,\n",
       " 5,\n",
       " 5,\n",
       " 19,\n",
       " 18,\n",
       " 5]"
      ]
     },
     "execution_count": 113,
     "metadata": {},
     "output_type": "execute_result"
    }
   ],
   "source": [
    "yaxis"
   ]
  },
  {
   "cell_type": "code",
   "execution_count": 111,
   "id": "f6f97fee",
   "metadata": {},
   "outputs": [
    {
     "data": {
      "image/png": "[encoded data removed]",
      "text/plain": [
       "<Figure size 432x288 with 1 Axes>"
      ]
     },
     "metadata": {
      "needs_background": "light"
     },
     "output_type": "display_data"
    }
   ],
   "source": [
    "\n",
    "plt.plot(xaxis,yaxis)\n",
    "\n",
    "plt.grid()\n",
    "plt.show()"
   ]
  }
 ],
 "metadata": {
  "kernelspec": {
   "display_name": "Python 3 (ipykernel)",
   "language": "python",
   "name": "python3"
  },
  "language_info": {
   "codemirror_mode": {
    "name": "ipython",
    "version": 3
   },
   "file_extension": ".py",
   "mimetype": "text/x-python",
   "name": "python",
   "nbconvert_exporter": "python",
   "pygments_lexer": "ipython3",
   "version": "3.10.5"
  }
 },
 "nbformat": 4,
 "nbformat_minor": 5
}
